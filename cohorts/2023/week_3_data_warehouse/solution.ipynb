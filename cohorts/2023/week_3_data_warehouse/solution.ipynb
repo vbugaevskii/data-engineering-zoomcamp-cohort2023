{
 "cells": [
  {
   "cell_type": "markdown",
   "id": "b3ff81e2-fd24-4e9d-aaa6-3aca3387d548",
   "metadata": {},
   "source": [
    "## Prerequisites"
   ]
  },
  {
   "cell_type": "markdown",
   "id": "8af0483e-c4aa-4079-81b4-e8ff13191331",
   "metadata": {},
   "source": [
    "Unfortunatelly Google Cloud and AWS are not available in my country, so I will use Yandex.Cloud. I will use ClickHouse instead of BigQuery."
   ]
  },
  {
   "cell_type": "markdown",
   "id": "0b87ea8f-e745-4881-a3cf-b4b4566b2672",
   "metadata": {},
   "source": [
    "### Load data to S3 Bucket\n",
    "\n",
    "Create deployments:\n",
    "```bash\n",
    "prefect deployment build flows/etl_web_to_gcs.py:etl_web_to_gcs_multiple \\\n",
    "    -n etl_web_to_gcs_multiple_fhv_2019 \\\n",
    "    --params '{\"months\": [1, 2, 3, 4, 5, 6, 7, 8, 9, 10, 11, 12], \"year\": 2019, \"color\": \"fhv\"}' \\\n",
    "    --output 'etl_web_to_gcs_multiple_fhv_2019-deployment.yaml'\n",
    "\n",
    "prefect deployment apply etl_web_to_gcs_multiple_fhv_2019-deployment.yaml\n",
    "```\n",
    "\n",
    "Then run them in Prefect UI: http://localhost:4200/deployments"
   ]
  },
  {
   "cell_type": "code",
   "execution_count": 1,
   "id": "ff4d85bd-4972-4d9d-b569-43ed52a19434",
   "metadata": {},
   "outputs": [
    {
     "data": {
      "text/plain": [
       "True"
      ]
     },
     "execution_count": 1,
     "metadata": {},
     "output_type": "execute_result"
    }
   ],
   "source": [
    "import os\n",
    "\n",
    "from dotenv import load_dotenv\n",
    "\n",
    "load_dotenv()  # load credentials"
   ]
  },
  {
   "cell_type": "markdown",
   "id": "d7bc675b-d50f-470b-92e8-d677642d7130",
   "metadata": {},
   "source": [
    "### Check connection with ClickHouse"
   ]
  },
  {
   "cell_type": "code",
   "execution_count": 2,
   "id": "511061f4-1feb-4850-a6b6-a1902a1711c0",
   "metadata": {},
   "outputs": [
    {
     "data": {
      "text/plain": [
       "[('22.8.13.20',)]"
      ]
     },
     "execution_count": 2,
     "metadata": {},
     "output_type": "execute_result"
    }
   ],
   "source": [
    "from clickhouse_driver import Client\n",
    "\n",
    "client = Client(host=os.environ['CH_HOST'],\n",
    "                user=os.environ['CH_USER'],\n",
    "                password=os.environ['CH_PASS'],\n",
    "                database='default',\n",
    "                secure=True)\n",
    "\n",
    "client.execute('SELECT version()')"
   ]
  },
  {
   "cell_type": "code",
   "execution_count": 3,
   "id": "02587ed4-f4b4-41c1-9885-f3e26ddb8404",
   "metadata": {},
   "outputs": [
    {
     "name": "stdout",
     "output_type": "stream",
     "text": [
      "--2023-02-12 19:57:49--  https://storage.yandexcloud.net/cloud-certs/CA.pem\n",
      "Распознаётся storage.yandexcloud.net (storage.yandexcloud.net)… 213.180.193.243\n",
      "Подключение к storage.yandexcloud.net (storage.yandexcloud.net)|213.180.193.243|:443... соединение установлено.\n",
      "HTTP-запрос отправлен. Ожидание ответа… 200 OK\n",
      "Длина: 3579 (3,5K) [application/x-x509-ca-cert]\n",
      "Сохранение в: «YandexCA.crt»\n",
      "\n",
      "YandexCA.crt        100%[===================>]   3,50K  --.-KB/s    за 0s      \n",
      "\n",
      "2023-02-12 19:57:49 (341 MB/s) - «YandexCA.crt» сохранён [3579/3579]\n",
      "\n"
     ]
    }
   ],
   "source": [
    "!wget https://storage.yandexcloud.net/cloud-certs/CA.pem -O YandexCA.crt\n",
    "!chmod 655 YandexCA.crt"
   ]
  },
  {
   "cell_type": "code",
   "execution_count": 4,
   "id": "e181425c-c5f3-47b0-b8cf-188ab5531138",
   "metadata": {},
   "outputs": [
    {
     "data": {
      "text/html": [
       "<div>\n",
       "<style scoped>\n",
       "    .dataframe tbody tr th:only-of-type {\n",
       "        vertical-align: middle;\n",
       "    }\n",
       "\n",
       "    .dataframe tbody tr th {\n",
       "        vertical-align: top;\n",
       "    }\n",
       "\n",
       "    .dataframe thead th {\n",
       "        text-align: right;\n",
       "    }\n",
       "</style>\n",
       "<table border=\"1\" class=\"dataframe\">\n",
       "  <thead>\n",
       "    <tr style=\"text-align: right;\">\n",
       "      <th></th>\n",
       "      <th>version()</th>\n",
       "    </tr>\n",
       "  </thead>\n",
       "  <tbody>\n",
       "    <tr>\n",
       "      <th>0</th>\n",
       "      <td>22.8.13.20</td>\n",
       "    </tr>\n",
       "  </tbody>\n",
       "</table>\n",
       "</div>"
      ],
      "text/plain": [
       "    version()\n",
       "0  22.8.13.20"
      ]
     },
     "execution_count": 4,
     "metadata": {},
     "output_type": "execute_result"
    }
   ],
   "source": [
    "import pandas as pd\n",
    "import sqlalchemy\n",
    "\n",
    "engine = sqlalchemy.create_engine(\n",
    "    f'clickhouse+http://{os.environ[\"CH_USER\"]}:{os.environ[\"CH_PASS\"]}@{os.environ[\"CH_HOST\"]}:8443/default'\n",
    "    '?protocol=https&verify=YandexCA.crt'\n",
    ")\n",
    "\n",
    "pd.read_sql('SELECT version()', con=engine)"
   ]
  },
  {
   "cell_type": "code",
   "execution_count": 5,
   "id": "2f08c21b-9e99-4554-88c8-da7531b3085b",
   "metadata": {},
   "outputs": [
    {
     "data": {
      "text/plain": [
       "[]"
      ]
     },
     "execution_count": 5,
     "metadata": {},
     "output_type": "execute_result"
    }
   ],
   "source": [
    "def drop_table(table):\n",
    "    return f'DROP TABLE IF EXISTS {table}'\n",
    "    \n",
    "\n",
    "client.execute(drop_table('fhv_tripdata_csv'))\n",
    "client.execute(drop_table('fhv_tripdata_table'))\n",
    "client.execute(drop_table('fhv_tripdata_table_partitioned'))"
   ]
  },
  {
   "cell_type": "markdown",
   "id": "4b754da5-4233-4401-b784-bd69c7401d9e",
   "metadata": {},
   "source": [
    "### Sanity Check Table"
   ]
  },
  {
   "cell_type": "code",
   "execution_count": 6,
   "id": "586a9165-ca2d-43e1-a392-733fb88bde74",
   "metadata": {},
   "outputs": [
    {
     "data": {
      "text/html": [
       "<div>\n",
       "<style scoped>\n",
       "    .dataframe tbody tr th:only-of-type {\n",
       "        vertical-align: middle;\n",
       "    }\n",
       "\n",
       "    .dataframe tbody tr th {\n",
       "        vertical-align: top;\n",
       "    }\n",
       "\n",
       "    .dataframe thead th {\n",
       "        text-align: right;\n",
       "    }\n",
       "</style>\n",
       "<table border=\"1\" class=\"dataframe\">\n",
       "  <thead>\n",
       "    <tr style=\"text-align: right;\">\n",
       "      <th></th>\n",
       "      <th>dispatching_base_num</th>\n",
       "      <th>pickup_datetime</th>\n",
       "      <th>dropOff_datetime</th>\n",
       "      <th>PUlocationID</th>\n",
       "      <th>DOlocationID</th>\n",
       "      <th>SR_Flag</th>\n",
       "      <th>Affiliated_base_number</th>\n",
       "    </tr>\n",
       "  </thead>\n",
       "  <tbody>\n",
       "    <tr>\n",
       "      <th>13167</th>\n",
       "      <td>B03022</td>\n",
       "      <td>2019-02-01 07:24:53</td>\n",
       "      <td>2019-02-01 07:42:53</td>\n",
       "      <td>264.0</td>\n",
       "      <td>265.0</td>\n",
       "      <td>NaN</td>\n",
       "      <td>B03022</td>\n",
       "    </tr>\n",
       "    <tr>\n",
       "      <th>18768</th>\n",
       "      <td>B03022</td>\n",
       "      <td>2019-02-01 08:01:31</td>\n",
       "      <td>2019-02-01 08:32:10</td>\n",
       "      <td>264.0</td>\n",
       "      <td>265.0</td>\n",
       "      <td>NaN</td>\n",
       "      <td>B03022</td>\n",
       "    </tr>\n",
       "    <tr>\n",
       "      <th>18769</th>\n",
       "      <td>B03022</td>\n",
       "      <td>2019-02-01 08:32:09</td>\n",
       "      <td>2019-02-01 09:35:09</td>\n",
       "      <td>264.0</td>\n",
       "      <td>265.0</td>\n",
       "      <td>1.0</td>\n",
       "      <td>B03022</td>\n",
       "    </tr>\n",
       "    <tr>\n",
       "      <th>18770</th>\n",
       "      <td>B03022</td>\n",
       "      <td>2019-02-01 08:57:13</td>\n",
       "      <td>2019-02-01 09:14:36</td>\n",
       "      <td>264.0</td>\n",
       "      <td>265.0</td>\n",
       "      <td>2.0</td>\n",
       "      <td>B03022</td>\n",
       "    </tr>\n",
       "    <tr>\n",
       "      <th>23864</th>\n",
       "      <td>B03022</td>\n",
       "      <td>2019-02-01 09:17:34</td>\n",
       "      <td>2019-02-01 09:23:38</td>\n",
       "      <td>264.0</td>\n",
       "      <td>265.0</td>\n",
       "      <td>1.0</td>\n",
       "      <td>B03022</td>\n",
       "    </tr>\n",
       "  </tbody>\n",
       "</table>\n",
       "</div>"
      ],
      "text/plain": [
       "      dispatching_base_num     pickup_datetime    dropOff_datetime  \\\n",
       "13167               B03022 2019-02-01 07:24:53 2019-02-01 07:42:53   \n",
       "18768               B03022 2019-02-01 08:01:31 2019-02-01 08:32:10   \n",
       "18769               B03022 2019-02-01 08:32:09 2019-02-01 09:35:09   \n",
       "18770               B03022 2019-02-01 08:57:13 2019-02-01 09:14:36   \n",
       "23864               B03022 2019-02-01 09:17:34 2019-02-01 09:23:38   \n",
       "\n",
       "       PUlocationID  DOlocationID  SR_Flag Affiliated_base_number  \n",
       "13167         264.0         265.0      NaN                 B03022  \n",
       "18768         264.0         265.0      NaN                 B03022  \n",
       "18769         264.0         265.0      1.0                 B03022  \n",
       "18770         264.0         265.0      2.0                 B03022  \n",
       "23864         264.0         265.0      1.0                 B03022  "
      ]
     },
     "execution_count": 6,
     "metadata": {},
     "output_type": "execute_result"
    }
   ],
   "source": [
    "df_check = pd.read_csv(\n",
    "    'https://github.com/DataTalksClub/nyc-tlc-data/releases/download/fhv/fhv_tripdata_2019-02.csv.gz',\n",
    "    parse_dates=[\n",
    "        'pickup_datetime',\n",
    "        'dropOff_datetime',\n",
    "    ],\n",
    ")\n",
    "\n",
    "df_check = df_check[df_check['dispatching_base_num'] == 'B03022']\n",
    "df_check.head()"
   ]
  },
  {
   "cell_type": "markdown",
   "id": "4737b28a-e9f5-4802-b4d4-089ddd87a746",
   "metadata": {},
   "source": [
    "### Create External Table\n",
    "\n",
    "https://clickhouse.com/docs/ru/engines/table-engines/integrations/s3/"
   ]
  },
  {
   "cell_type": "code",
   "execution_count": 7,
   "id": "ce59fb2a-0edf-4c03-9642-51e961c4948f",
   "metadata": {},
   "outputs": [
    {
     "data": {
      "text/plain": [
       "[]"
      ]
     },
     "execution_count": 7,
     "metadata": {},
     "output_type": "execute_result"
    }
   ],
   "source": [
    "sql_query = f'''\n",
    "CREATE TABLE IF NOT EXISTS default.fhv_tripdata_csv\n",
    "(\n",
    "    dispatching_base_num              String,\n",
    "    pickup_datetime                   DateTime,\n",
    "    dropOff_datetime                  DateTime,\n",
    "    PULocationID                      Nullable(Int32),\n",
    "    DOLocationID                      Nullable(Int32),\n",
    "    SR_Flag                           Nullable(Int8),\n",
    "    Affiliated_base_number            String\n",
    ")\n",
    "ENGINE = S3(\n",
    "    'https://storage.yandexcloud.net/de-bucket-dev/data/fhv/fhv_tripdata_2019-*.cvs.gz',\n",
    "    {os.environ[\"YA_S3_KEY\"]},\n",
    "    {os.environ[\"YA_S3_TOKEN\"]},\n",
    "    'CSV',\n",
    "    'gzip'\n",
    ")\n",
    "SETTINGS input_format_csv_skip_first_lines = 1;\n",
    "'''\n",
    "\n",
    "client.execute(sql_query)"
   ]
  },
  {
   "cell_type": "code",
   "execution_count": 8,
   "id": "3b498527-86c2-4780-aa8b-4871de75d7cb",
   "metadata": {},
   "outputs": [
    {
     "data": {
      "text/html": [
       "<div>\n",
       "<style scoped>\n",
       "    .dataframe tbody tr th:only-of-type {\n",
       "        vertical-align: middle;\n",
       "    }\n",
       "\n",
       "    .dataframe tbody tr th {\n",
       "        vertical-align: top;\n",
       "    }\n",
       "\n",
       "    .dataframe thead th {\n",
       "        text-align: right;\n",
       "    }\n",
       "</style>\n",
       "<table border=\"1\" class=\"dataframe\">\n",
       "  <thead>\n",
       "    <tr style=\"text-align: right;\">\n",
       "      <th></th>\n",
       "      <th>dispatching_base_num</th>\n",
       "      <th>pickup_datetime</th>\n",
       "      <th>dropOff_datetime</th>\n",
       "      <th>PULocationID</th>\n",
       "      <th>DOLocationID</th>\n",
       "      <th>SR_Flag</th>\n",
       "      <th>Affiliated_base_number</th>\n",
       "    </tr>\n",
       "  </thead>\n",
       "  <tbody>\n",
       "    <tr>\n",
       "      <th>0</th>\n",
       "      <td>B03022</td>\n",
       "      <td>2019-02-01 07:24:53</td>\n",
       "      <td>2019-02-01 07:42:53</td>\n",
       "      <td>264</td>\n",
       "      <td>265</td>\n",
       "      <td>NaN</td>\n",
       "      <td>B03022</td>\n",
       "    </tr>\n",
       "    <tr>\n",
       "      <th>1</th>\n",
       "      <td>B03022</td>\n",
       "      <td>2019-02-01 08:01:31</td>\n",
       "      <td>2019-02-01 08:32:10</td>\n",
       "      <td>264</td>\n",
       "      <td>265</td>\n",
       "      <td>NaN</td>\n",
       "      <td>B03022</td>\n",
       "    </tr>\n",
       "    <tr>\n",
       "      <th>2</th>\n",
       "      <td>B03022</td>\n",
       "      <td>2019-02-01 08:32:09</td>\n",
       "      <td>2019-02-01 09:35:09</td>\n",
       "      <td>264</td>\n",
       "      <td>265</td>\n",
       "      <td>1.0</td>\n",
       "      <td>B03022</td>\n",
       "    </tr>\n",
       "    <tr>\n",
       "      <th>3</th>\n",
       "      <td>B03022</td>\n",
       "      <td>2019-02-01 08:57:13</td>\n",
       "      <td>2019-02-01 09:14:36</td>\n",
       "      <td>264</td>\n",
       "      <td>265</td>\n",
       "      <td>2.0</td>\n",
       "      <td>B03022</td>\n",
       "    </tr>\n",
       "    <tr>\n",
       "      <th>4</th>\n",
       "      <td>B03022</td>\n",
       "      <td>2019-02-01 09:17:34</td>\n",
       "      <td>2019-02-01 09:23:38</td>\n",
       "      <td>264</td>\n",
       "      <td>265</td>\n",
       "      <td>1.0</td>\n",
       "      <td>B03022</td>\n",
       "    </tr>\n",
       "  </tbody>\n",
       "</table>\n",
       "</div>"
      ],
      "text/plain": [
       "  dispatching_base_num     pickup_datetime    dropOff_datetime  PULocationID  \\\n",
       "0               B03022 2019-02-01 07:24:53 2019-02-01 07:42:53           264   \n",
       "1               B03022 2019-02-01 08:01:31 2019-02-01 08:32:10           264   \n",
       "2               B03022 2019-02-01 08:32:09 2019-02-01 09:35:09           264   \n",
       "3               B03022 2019-02-01 08:57:13 2019-02-01 09:14:36           264   \n",
       "4               B03022 2019-02-01 09:17:34 2019-02-01 09:23:38           264   \n",
       "\n",
       "   DOLocationID  SR_Flag Affiliated_base_number  \n",
       "0           265      NaN                 B03022  \n",
       "1           265      NaN                 B03022  \n",
       "2           265      1.0                 B03022  \n",
       "3           265      2.0                 B03022  \n",
       "4           265      1.0                 B03022  "
      ]
     },
     "execution_count": 8,
     "metadata": {},
     "output_type": "execute_result"
    }
   ],
   "source": [
    "pd.read_sql('''\n",
    "select * from default.fhv_tripdata_csv\n",
    "where true\n",
    "    and toDate(pickup_datetime) = toDate('2019-02-01')\n",
    "    and dispatching_base_num = 'B03022'\n",
    "limit 5\n",
    "''', con=engine)"
   ]
  },
  {
   "cell_type": "code",
   "execution_count": 9,
   "id": "06200b6f-a6c5-4c62-83ed-9e4fe66dfe51",
   "metadata": {},
   "outputs": [],
   "source": [
    "# client.execute(drop_table('fhv_tripdata_csv'))"
   ]
  },
  {
   "cell_type": "markdown",
   "id": "d0a196bc-5d6f-47dc-8f4c-1ab8a166bd3a",
   "metadata": {},
   "source": [
    "### Create ClickHouse Table\n",
    "\n",
    "- https://clickhouse.com/docs/ru/engines/table-engines/mergetree-family/mergetree\n",
    "- https://clickhouse.com/docs/ru/engines/table-engines/special/memory"
   ]
  },
  {
   "cell_type": "code",
   "execution_count": 10,
   "id": "620b5a34-7911-4433-9956-29ce7cd8026f",
   "metadata": {},
   "outputs": [
    {
     "data": {
      "text/plain": [
       "[]"
      ]
     },
     "execution_count": 10,
     "metadata": {},
     "output_type": "execute_result"
    }
   ],
   "source": [
    "sql_query = '''\n",
    "CREATE TABLE IF NOT EXISTS default.fhv_tripdata_table\n",
    "ENGINE = MergeTree()\n",
    "ORDER BY pickup_datetime -- you can't create table without 'order by' statement\n",
    "AS ( SELECT * FROM default.fhv_tripdata_csv )\n",
    "'''\n",
    "\n",
    "client.execute(sql_query)"
   ]
  },
  {
   "cell_type": "code",
   "execution_count": 11,
   "id": "17fb914a-237b-4f4a-924b-efcbdb2eb358",
   "metadata": {},
   "outputs": [
    {
     "data": {
      "text/html": [
       "<div>\n",
       "<style scoped>\n",
       "    .dataframe tbody tr th:only-of-type {\n",
       "        vertical-align: middle;\n",
       "    }\n",
       "\n",
       "    .dataframe tbody tr th {\n",
       "        vertical-align: top;\n",
       "    }\n",
       "\n",
       "    .dataframe thead th {\n",
       "        text-align: right;\n",
       "    }\n",
       "</style>\n",
       "<table border=\"1\" class=\"dataframe\">\n",
       "  <thead>\n",
       "    <tr style=\"text-align: right;\">\n",
       "      <th></th>\n",
       "      <th>dispatching_base_num</th>\n",
       "      <th>pickup_datetime</th>\n",
       "      <th>dropOff_datetime</th>\n",
       "      <th>PULocationID</th>\n",
       "      <th>DOLocationID</th>\n",
       "      <th>SR_Flag</th>\n",
       "      <th>Affiliated_base_number</th>\n",
       "    </tr>\n",
       "  </thead>\n",
       "  <tbody>\n",
       "    <tr>\n",
       "      <th>0</th>\n",
       "      <td>B03022</td>\n",
       "      <td>2019-02-01 07:24:53</td>\n",
       "      <td>2019-02-01 07:42:53</td>\n",
       "      <td>264</td>\n",
       "      <td>265</td>\n",
       "      <td>NaN</td>\n",
       "      <td>B03022</td>\n",
       "    </tr>\n",
       "    <tr>\n",
       "      <th>1</th>\n",
       "      <td>B03022</td>\n",
       "      <td>2019-02-01 08:01:31</td>\n",
       "      <td>2019-02-01 08:32:10</td>\n",
       "      <td>264</td>\n",
       "      <td>265</td>\n",
       "      <td>NaN</td>\n",
       "      <td>B03022</td>\n",
       "    </tr>\n",
       "    <tr>\n",
       "      <th>2</th>\n",
       "      <td>B03022</td>\n",
       "      <td>2019-02-01 08:32:09</td>\n",
       "      <td>2019-02-01 09:35:09</td>\n",
       "      <td>264</td>\n",
       "      <td>265</td>\n",
       "      <td>1.0</td>\n",
       "      <td>B03022</td>\n",
       "    </tr>\n",
       "    <tr>\n",
       "      <th>3</th>\n",
       "      <td>B03022</td>\n",
       "      <td>2019-02-01 08:57:13</td>\n",
       "      <td>2019-02-01 09:14:36</td>\n",
       "      <td>264</td>\n",
       "      <td>265</td>\n",
       "      <td>2.0</td>\n",
       "      <td>B03022</td>\n",
       "    </tr>\n",
       "    <tr>\n",
       "      <th>4</th>\n",
       "      <td>B03022</td>\n",
       "      <td>2019-02-01 09:00:12</td>\n",
       "      <td>2019-02-01 09:29:43</td>\n",
       "      <td>264</td>\n",
       "      <td>265</td>\n",
       "      <td>1.0</td>\n",
       "      <td>B03022</td>\n",
       "    </tr>\n",
       "  </tbody>\n",
       "</table>\n",
       "</div>"
      ],
      "text/plain": [
       "  dispatching_base_num     pickup_datetime    dropOff_datetime  PULocationID  \\\n",
       "0               B03022 2019-02-01 07:24:53 2019-02-01 07:42:53           264   \n",
       "1               B03022 2019-02-01 08:01:31 2019-02-01 08:32:10           264   \n",
       "2               B03022 2019-02-01 08:32:09 2019-02-01 09:35:09           264   \n",
       "3               B03022 2019-02-01 08:57:13 2019-02-01 09:14:36           264   \n",
       "4               B03022 2019-02-01 09:00:12 2019-02-01 09:29:43           264   \n",
       "\n",
       "   DOLocationID  SR_Flag Affiliated_base_number  \n",
       "0           265      NaN                 B03022  \n",
       "1           265      NaN                 B03022  \n",
       "2           265      1.0                 B03022  \n",
       "3           265      2.0                 B03022  \n",
       "4           265      1.0                 B03022  "
      ]
     },
     "execution_count": 11,
     "metadata": {},
     "output_type": "execute_result"
    }
   ],
   "source": [
    "pd.read_sql('''\n",
    "select * from default.fhv_tripdata_table\n",
    "where true\n",
    "    and toDate(pickup_datetime) = toDate('2019-02-01')\n",
    "    and dispatching_base_num = 'B03022'\n",
    "limit 5\n",
    "''', con=engine)"
   ]
  },
  {
   "cell_type": "code",
   "execution_count": 12,
   "id": "ff390327-1c13-4c32-a7f7-49c38132a010",
   "metadata": {},
   "outputs": [],
   "source": [
    "# client.execute(drop_table('fhv_tripdata_table'))"
   ]
  },
  {
   "cell_type": "markdown",
   "id": "878e66a5-59df-4bb1-ad4b-9ef29f1eb272",
   "metadata": {},
   "source": [
    "### Create ClickHouse Table (Partitioned and Clustered)\n",
    "\n",
    "Possibly we will have to use more memory to create table."
   ]
  },
  {
   "cell_type": "code",
   "execution_count": 13,
   "id": "7e63ab03-a54a-4fb1-b2d1-a1af547d7c79",
   "metadata": {
    "tags": []
   },
   "outputs": [
    {
     "data": {
      "text/plain": [
       "[]"
      ]
     },
     "execution_count": 13,
     "metadata": {},
     "output_type": "execute_result"
    }
   ],
   "source": [
    "sql_query = '''\n",
    "CREATE TABLE IF NOT EXISTS default.fhv_tripdata_table_partitioned\n",
    "ENGINE = MergeTree()\n",
    "ORDER BY Affiliated_base_number\n",
    "PARTITION BY toYYYYMMDD(pickup_datetime)\n",
    "AS ( SELECT * FROM default.fhv_tripdata_table )\n",
    "'''\n",
    "\n",
    "client.execute(sql_query)"
   ]
  },
  {
   "cell_type": "code",
   "execution_count": 14,
   "id": "bb0b420c-859c-4c29-9408-d48d2acb1dbe",
   "metadata": {},
   "outputs": [
    {
     "data": {
      "text/html": [
       "<div>\n",
       "<style scoped>\n",
       "    .dataframe tbody tr th:only-of-type {\n",
       "        vertical-align: middle;\n",
       "    }\n",
       "\n",
       "    .dataframe tbody tr th {\n",
       "        vertical-align: top;\n",
       "    }\n",
       "\n",
       "    .dataframe thead th {\n",
       "        text-align: right;\n",
       "    }\n",
       "</style>\n",
       "<table border=\"1\" class=\"dataframe\">\n",
       "  <thead>\n",
       "    <tr style=\"text-align: right;\">\n",
       "      <th></th>\n",
       "      <th>dispatching_base_num</th>\n",
       "      <th>pickup_datetime</th>\n",
       "      <th>dropOff_datetime</th>\n",
       "      <th>PULocationID</th>\n",
       "      <th>DOLocationID</th>\n",
       "      <th>SR_Flag</th>\n",
       "      <th>Affiliated_base_number</th>\n",
       "    </tr>\n",
       "  </thead>\n",
       "  <tbody>\n",
       "    <tr>\n",
       "      <th>0</th>\n",
       "      <td>B03022</td>\n",
       "      <td>2019-02-01 07:24:53</td>\n",
       "      <td>2019-02-01 07:42:53</td>\n",
       "      <td>264</td>\n",
       "      <td>265</td>\n",
       "      <td>NaN</td>\n",
       "      <td>B03022</td>\n",
       "    </tr>\n",
       "    <tr>\n",
       "      <th>1</th>\n",
       "      <td>B03022</td>\n",
       "      <td>2019-02-01 08:01:31</td>\n",
       "      <td>2019-02-01 08:32:10</td>\n",
       "      <td>264</td>\n",
       "      <td>265</td>\n",
       "      <td>NaN</td>\n",
       "      <td>B03022</td>\n",
       "    </tr>\n",
       "    <tr>\n",
       "      <th>2</th>\n",
       "      <td>B03022</td>\n",
       "      <td>2019-02-01 08:32:09</td>\n",
       "      <td>2019-02-01 09:35:09</td>\n",
       "      <td>264</td>\n",
       "      <td>265</td>\n",
       "      <td>1.0</td>\n",
       "      <td>B03022</td>\n",
       "    </tr>\n",
       "    <tr>\n",
       "      <th>3</th>\n",
       "      <td>B03022</td>\n",
       "      <td>2019-02-01 08:57:13</td>\n",
       "      <td>2019-02-01 09:14:36</td>\n",
       "      <td>264</td>\n",
       "      <td>265</td>\n",
       "      <td>2.0</td>\n",
       "      <td>B03022</td>\n",
       "    </tr>\n",
       "    <tr>\n",
       "      <th>4</th>\n",
       "      <td>B03022</td>\n",
       "      <td>2019-02-01 09:00:12</td>\n",
       "      <td>2019-02-01 09:29:43</td>\n",
       "      <td>264</td>\n",
       "      <td>265</td>\n",
       "      <td>1.0</td>\n",
       "      <td>B03022</td>\n",
       "    </tr>\n",
       "  </tbody>\n",
       "</table>\n",
       "</div>"
      ],
      "text/plain": [
       "  dispatching_base_num     pickup_datetime    dropOff_datetime  PULocationID  \\\n",
       "0               B03022 2019-02-01 07:24:53 2019-02-01 07:42:53           264   \n",
       "1               B03022 2019-02-01 08:01:31 2019-02-01 08:32:10           264   \n",
       "2               B03022 2019-02-01 08:32:09 2019-02-01 09:35:09           264   \n",
       "3               B03022 2019-02-01 08:57:13 2019-02-01 09:14:36           264   \n",
       "4               B03022 2019-02-01 09:00:12 2019-02-01 09:29:43           264   \n",
       "\n",
       "   DOLocationID  SR_Flag Affiliated_base_number  \n",
       "0           265      NaN                 B03022  \n",
       "1           265      NaN                 B03022  \n",
       "2           265      1.0                 B03022  \n",
       "3           265      2.0                 B03022  \n",
       "4           265      1.0                 B03022  "
      ]
     },
     "execution_count": 14,
     "metadata": {},
     "output_type": "execute_result"
    }
   ],
   "source": [
    "pd.read_sql('''\n",
    "select * from default.fhv_tripdata_table_partitioned\n",
    "where true\n",
    "    and toDate(pickup_datetime) = toDate('2019-02-01')\n",
    "    and dispatching_base_num = 'B03022'\n",
    "limit 5\n",
    "''', con=engine)"
   ]
  },
  {
   "cell_type": "code",
   "execution_count": 15,
   "id": "9d825149-f491-4966-ae91-4b13c0f99dc4",
   "metadata": {},
   "outputs": [],
   "source": [
    "# client.execute(drop_table('fhv_tripdata_table_partitioned'))"
   ]
  },
  {
   "cell_type": "markdown",
   "id": "5cf3ca29-e2eb-4741-8dd1-fb9436bccb10",
   "metadata": {},
   "source": [
    "## Tasks"
   ]
  },
  {
   "cell_type": "markdown",
   "id": "8c0ac7a6-a7e2-48a9-9d99-c727fe2e64b8",
   "metadata": {},
   "source": [
    "### Question 1"
   ]
  },
  {
   "cell_type": "code",
   "execution_count": 16,
   "id": "780c7719-9a3f-4c4e-bafd-0436b9f2f441",
   "metadata": {},
   "outputs": [
    {
     "name": "stdout",
     "output_type": "stream",
     "text": [
      "CPU times: user 10.4 ms, sys: 2.96 ms, total: 13.3 ms\n",
      "Wall time: 19.7 s\n"
     ]
    },
    {
     "data": {
      "text/html": [
       "<div>\n",
       "<style scoped>\n",
       "    .dataframe tbody tr th:only-of-type {\n",
       "        vertical-align: middle;\n",
       "    }\n",
       "\n",
       "    .dataframe tbody tr th {\n",
       "        vertical-align: top;\n",
       "    }\n",
       "\n",
       "    .dataframe thead th {\n",
       "        text-align: right;\n",
       "    }\n",
       "</style>\n",
       "<table border=\"1\" class=\"dataframe\">\n",
       "  <thead>\n",
       "    <tr style=\"text-align: right;\">\n",
       "      <th></th>\n",
       "      <th>count()</th>\n",
       "    </tr>\n",
       "  </thead>\n",
       "  <tbody>\n",
       "    <tr>\n",
       "      <th>0</th>\n",
       "      <td>43244696</td>\n",
       "    </tr>\n",
       "  </tbody>\n",
       "</table>\n",
       "</div>"
      ],
      "text/plain": [
       "    count()\n",
       "0  43244696"
      ]
     },
     "execution_count": 16,
     "metadata": {},
     "output_type": "execute_result"
    }
   ],
   "source": [
    "%%time\n",
    "\n",
    "pd.read_sql('''\n",
    "select count(*) from default.fhv_tripdata_csv\n",
    "''', con=engine)"
   ]
  },
  {
   "cell_type": "markdown",
   "id": "a8fb99be-bf06-445f-9a6d-1b8a06d9c11f",
   "metadata": {},
   "source": [
    "### Question 2"
   ]
  },
  {
   "cell_type": "code",
   "execution_count": 17,
   "id": "0a025b1d-5e8d-49a8-9f54-041f7593861b",
   "metadata": {},
   "outputs": [
    {
     "name": "stdout",
     "output_type": "stream",
     "text": [
      "CPU times: user 11 ms, sys: 3.94 ms, total: 14.9 ms\n",
      "Wall time: 22 s\n"
     ]
    },
    {
     "data": {
      "text/html": [
       "<div>\n",
       "<style scoped>\n",
       "    .dataframe tbody tr th:only-of-type {\n",
       "        vertical-align: middle;\n",
       "    }\n",
       "\n",
       "    .dataframe tbody tr th {\n",
       "        vertical-align: top;\n",
       "    }\n",
       "\n",
       "    .dataframe thead th {\n",
       "        text-align: right;\n",
       "    }\n",
       "</style>\n",
       "<table border=\"1\" class=\"dataframe\">\n",
       "  <thead>\n",
       "    <tr style=\"text-align: right;\">\n",
       "      <th></th>\n",
       "      <th>uniq(Affiliated_base_number)</th>\n",
       "    </tr>\n",
       "  </thead>\n",
       "  <tbody>\n",
       "    <tr>\n",
       "      <th>0</th>\n",
       "      <td>3037</td>\n",
       "    </tr>\n",
       "  </tbody>\n",
       "</table>\n",
       "</div>"
      ],
      "text/plain": [
       "   uniq(Affiliated_base_number)\n",
       "0                          3037"
      ]
     },
     "execution_count": 17,
     "metadata": {},
     "output_type": "execute_result"
    }
   ],
   "source": [
    "%%time\n",
    "\n",
    "pd.read_sql('''\n",
    "select uniq(Affiliated_base_number) from default.fhv_tripdata_csv\n",
    "''', con=engine)"
   ]
  },
  {
   "cell_type": "code",
   "execution_count": 18,
   "id": "c69e0384-dfcb-492b-88f8-5b87920c3a8d",
   "metadata": {},
   "outputs": [
    {
     "name": "stdout",
     "output_type": "stream",
     "text": [
      "CPU times: user 13.1 ms, sys: 4.57 ms, total: 17.7 ms\n",
      "Wall time: 22.8 s\n"
     ]
    },
    {
     "data": {
      "text/html": [
       "<div>\n",
       "<style scoped>\n",
       "    .dataframe tbody tr th:only-of-type {\n",
       "        vertical-align: middle;\n",
       "    }\n",
       "\n",
       "    .dataframe tbody tr th {\n",
       "        vertical-align: top;\n",
       "    }\n",
       "\n",
       "    .dataframe thead th {\n",
       "        text-align: right;\n",
       "    }\n",
       "</style>\n",
       "<table border=\"1\" class=\"dataframe\">\n",
       "  <thead>\n",
       "    <tr style=\"text-align: right;\">\n",
       "      <th></th>\n",
       "      <th>uniqExact(Affiliated_base_number)</th>\n",
       "    </tr>\n",
       "  </thead>\n",
       "  <tbody>\n",
       "    <tr>\n",
       "      <th>0</th>\n",
       "      <td>3037</td>\n",
       "    </tr>\n",
       "  </tbody>\n",
       "</table>\n",
       "</div>"
      ],
      "text/plain": [
       "   uniqExact(Affiliated_base_number)\n",
       "0                               3037"
      ]
     },
     "execution_count": 18,
     "metadata": {},
     "output_type": "execute_result"
    }
   ],
   "source": [
    "%%time\n",
    "\n",
    "pd.read_sql('''\n",
    "select count(distinct Affiliated_base_number) from default.fhv_tripdata_csv\n",
    "''', con=engine)"
   ]
  },
  {
   "cell_type": "code",
   "execution_count": 19,
   "id": "1703f0ed-e3ae-4465-8abe-7e22b587199d",
   "metadata": {},
   "outputs": [
    {
     "name": "stdout",
     "output_type": "stream",
     "text": [
      "CPU times: user 11.9 ms, sys: 3.75 ms, total: 15.6 ms\n",
      "Wall time: 1.1 s\n"
     ]
    },
    {
     "data": {
      "text/html": [
       "<div>\n",
       "<style scoped>\n",
       "    .dataframe tbody tr th:only-of-type {\n",
       "        vertical-align: middle;\n",
       "    }\n",
       "\n",
       "    .dataframe tbody tr th {\n",
       "        vertical-align: top;\n",
       "    }\n",
       "\n",
       "    .dataframe thead th {\n",
       "        text-align: right;\n",
       "    }\n",
       "</style>\n",
       "<table border=\"1\" class=\"dataframe\">\n",
       "  <thead>\n",
       "    <tr style=\"text-align: right;\">\n",
       "      <th></th>\n",
       "      <th>uniq(Affiliated_base_number)</th>\n",
       "    </tr>\n",
       "  </thead>\n",
       "  <tbody>\n",
       "    <tr>\n",
       "      <th>0</th>\n",
       "      <td>3037</td>\n",
       "    </tr>\n",
       "  </tbody>\n",
       "</table>\n",
       "</div>"
      ],
      "text/plain": [
       "   uniq(Affiliated_base_number)\n",
       "0                          3037"
      ]
     },
     "execution_count": 19,
     "metadata": {},
     "output_type": "execute_result"
    }
   ],
   "source": [
    "%%time\n",
    "\n",
    "pd.read_sql('''\n",
    "select uniq(Affiliated_base_number) from default.fhv_tripdata_table\n",
    "''', con=engine)"
   ]
  },
  {
   "cell_type": "code",
   "execution_count": 20,
   "id": "20ce1a67-68fe-4cfc-96ca-a2688e549cf1",
   "metadata": {},
   "outputs": [
    {
     "name": "stdout",
     "output_type": "stream",
     "text": [
      "CPU times: user 12.1 ms, sys: 4.04 ms, total: 16.1 ms\n",
      "Wall time: 1.59 s\n"
     ]
    },
    {
     "data": {
      "text/html": [
       "<div>\n",
       "<style scoped>\n",
       "    .dataframe tbody tr th:only-of-type {\n",
       "        vertical-align: middle;\n",
       "    }\n",
       "\n",
       "    .dataframe tbody tr th {\n",
       "        vertical-align: top;\n",
       "    }\n",
       "\n",
       "    .dataframe thead th {\n",
       "        text-align: right;\n",
       "    }\n",
       "</style>\n",
       "<table border=\"1\" class=\"dataframe\">\n",
       "  <thead>\n",
       "    <tr style=\"text-align: right;\">\n",
       "      <th></th>\n",
       "      <th>uniqExact(Affiliated_base_number)</th>\n",
       "    </tr>\n",
       "  </thead>\n",
       "  <tbody>\n",
       "    <tr>\n",
       "      <th>0</th>\n",
       "      <td>3037</td>\n",
       "    </tr>\n",
       "  </tbody>\n",
       "</table>\n",
       "</div>"
      ],
      "text/plain": [
       "   uniqExact(Affiliated_base_number)\n",
       "0                               3037"
      ]
     },
     "execution_count": 20,
     "metadata": {},
     "output_type": "execute_result"
    }
   ],
   "source": [
    "%%time\n",
    "\n",
    "pd.read_sql('''\n",
    "select count(distinct Affiliated_base_number) from default.fhv_tripdata_table\n",
    "''', con=engine)"
   ]
  },
  {
   "cell_type": "markdown",
   "id": "eb95e55c-5886-49d9-9399-639280203ddf",
   "metadata": {},
   "source": [
    "**NOTE:**\n",
    "\n",
    "It's not possible to estimate memory, that will be used for the query using `fhv_tripdata_csv`, because files are not actually loaded into ClickHouse.\n",
    "\n",
    "Memory consumption for the query using `fhv_tripdata_table` will be estimated approximately as a size of the table."
   ]
  },
  {
   "cell_type": "markdown",
   "id": "03664e86-93e8-40b6-b38b-70b69380d53c",
   "metadata": {},
   "source": [
    "### Question 3"
   ]
  },
  {
   "cell_type": "code",
   "execution_count": 21,
   "id": "e881e92b-88c9-4c99-b9bb-821b130bfd78",
   "metadata": {},
   "outputs": [
    {
     "name": "stdout",
     "output_type": "stream",
     "text": [
      "CPU times: user 9.63 ms, sys: 3.07 ms, total: 12.7 ms\n",
      "Wall time: 634 ms\n"
     ]
    },
    {
     "data": {
      "text/html": [
       "<div>\n",
       "<style scoped>\n",
       "    .dataframe tbody tr th:only-of-type {\n",
       "        vertical-align: middle;\n",
       "    }\n",
       "\n",
       "    .dataframe tbody tr th {\n",
       "        vertical-align: top;\n",
       "    }\n",
       "\n",
       "    .dataframe thead th {\n",
       "        text-align: right;\n",
       "    }\n",
       "</style>\n",
       "<table border=\"1\" class=\"dataframe\">\n",
       "  <thead>\n",
       "    <tr style=\"text-align: right;\">\n",
       "      <th></th>\n",
       "      <th>count()</th>\n",
       "    </tr>\n",
       "  </thead>\n",
       "  <tbody>\n",
       "    <tr>\n",
       "      <th>0</th>\n",
       "      <td>717748</td>\n",
       "    </tr>\n",
       "  </tbody>\n",
       "</table>\n",
       "</div>"
      ],
      "text/plain": [
       "   count()\n",
       "0   717748"
      ]
     },
     "execution_count": 21,
     "metadata": {},
     "output_type": "execute_result"
    }
   ],
   "source": [
    "%%time\n",
    "\n",
    "pd.read_sql('''\n",
    "select count(*)\n",
    "from default.fhv_tripdata_table\n",
    "where PULocationID is null and DOLocationID is null\n",
    "''', con=engine)"
   ]
  },
  {
   "cell_type": "markdown",
   "id": "94fc426c-7a53-475c-9f82-c2826b951164",
   "metadata": {},
   "source": [
    "### Question 4"
   ]
  },
  {
   "cell_type": "markdown",
   "id": "760b5168-a8ea-4068-bda0-671142b0d648",
   "metadata": {},
   "source": [
    "See \"Create ClickHouse Table (Partitioned and Clustered)\"."
   ]
  },
  {
   "cell_type": "markdown",
   "id": "938dc7c6-98bd-4020-86ab-a7e25a23db4f",
   "metadata": {},
   "source": [
    "### Question 5"
   ]
  },
  {
   "cell_type": "code",
   "execution_count": 22,
   "id": "64d4ae2d-8fa9-4193-871d-2a6579725cea",
   "metadata": {},
   "outputs": [
    {
     "name": "stdout",
     "output_type": "stream",
     "text": [
      "CPU times: user 9.66 ms, sys: 2.7 ms, total: 12.4 ms\n",
      "Wall time: 101 ms\n"
     ]
    },
    {
     "data": {
      "text/html": [
       "<div>\n",
       "<style scoped>\n",
       "    .dataframe tbody tr th:only-of-type {\n",
       "        vertical-align: middle;\n",
       "    }\n",
       "\n",
       "    .dataframe tbody tr th {\n",
       "        vertical-align: top;\n",
       "    }\n",
       "\n",
       "    .dataframe thead th {\n",
       "        text-align: right;\n",
       "    }\n",
       "</style>\n",
       "<table border=\"1\" class=\"dataframe\">\n",
       "  <thead>\n",
       "    <tr style=\"text-align: right;\">\n",
       "      <th></th>\n",
       "      <th>uniqExact(Affiliated_base_number)</th>\n",
       "    </tr>\n",
       "  </thead>\n",
       "  <tbody>\n",
       "    <tr>\n",
       "      <th>0</th>\n",
       "      <td>698</td>\n",
       "    </tr>\n",
       "  </tbody>\n",
       "</table>\n",
       "</div>"
      ],
      "text/plain": [
       "   uniqExact(Affiliated_base_number)\n",
       "0                                698"
      ]
     },
     "execution_count": 22,
     "metadata": {},
     "output_type": "execute_result"
    }
   ],
   "source": [
    "%%time\n",
    "\n",
    "pd.read_sql('''\n",
    "select count(distinct Affiliated_base_number)\n",
    "from default.fhv_tripdata_table\n",
    "where toDate(pickup_datetime) between toDate('2019/03/01') and toDate('2019/03/31')\n",
    "''', con=engine)"
   ]
  },
  {
   "cell_type": "code",
   "execution_count": 23,
   "id": "eaa78e80-f6f7-4905-9f94-2f1d0ae04b2a",
   "metadata": {},
   "outputs": [
    {
     "name": "stdout",
     "output_type": "stream",
     "text": [
      "CPU times: user 11.2 ms, sys: 3.69 ms, total: 14.9 ms\n",
      "Wall time: 117 ms\n"
     ]
    },
    {
     "data": {
      "text/html": [
       "<div>\n",
       "<style scoped>\n",
       "    .dataframe tbody tr th:only-of-type {\n",
       "        vertical-align: middle;\n",
       "    }\n",
       "\n",
       "    .dataframe tbody tr th {\n",
       "        vertical-align: top;\n",
       "    }\n",
       "\n",
       "    .dataframe thead th {\n",
       "        text-align: right;\n",
       "    }\n",
       "</style>\n",
       "<table border=\"1\" class=\"dataframe\">\n",
       "  <thead>\n",
       "    <tr style=\"text-align: right;\">\n",
       "      <th></th>\n",
       "      <th>uniqExact(Affiliated_base_number)</th>\n",
       "    </tr>\n",
       "  </thead>\n",
       "  <tbody>\n",
       "    <tr>\n",
       "      <th>0</th>\n",
       "      <td>698</td>\n",
       "    </tr>\n",
       "  </tbody>\n",
       "</table>\n",
       "</div>"
      ],
      "text/plain": [
       "   uniqExact(Affiliated_base_number)\n",
       "0                                698"
      ]
     },
     "execution_count": 23,
     "metadata": {},
     "output_type": "execute_result"
    }
   ],
   "source": [
    "%%time\n",
    "\n",
    "pd.read_sql('''\n",
    "select count(distinct Affiliated_base_number)\n",
    "from default.fhv_tripdata_table_partitioned\n",
    "where toDate(pickup_datetime) between toDate('2019/03/01') and toDate('2019/03/31')\n",
    "''', con=engine)"
   ]
  },
  {
   "cell_type": "markdown",
   "id": "e71e62bc-ac17-45ed-a166-5092792fff96",
   "metadata": {},
   "source": [
    "The second query should be optimized, because the data is already sorted by `Affiliated_base_number`, so this fact can be used for reducing memory consumption in 2nd case."
   ]
  },
  {
   "cell_type": "markdown",
   "id": "c00b5e5d-ccc3-46aa-9d88-4a9bfbcdd83e",
   "metadata": {},
   "source": [
    "### Question 6\n",
    "\n",
    "Data for External Table is stored in Buckets (S3)."
   ]
  },
  {
   "cell_type": "markdown",
   "id": "907d9821-ce3e-46e5-86c4-cec9f6d9c98b",
   "metadata": {},
   "source": [
    "### Question 7\n",
    "\n",
    "It's a good practice always to have **partitioned** tables."
   ]
  },
  {
   "cell_type": "code",
   "execution_count": null,
   "id": "6e52b6b9-2189-46a7-8f5f-64646b31f831",
   "metadata": {},
   "outputs": [],
   "source": []
  }
 ],
 "metadata": {
  "kernelspec": {
   "display_name": "Python 3 (ipykernel)",
   "language": "python",
   "name": "python3"
  },
  "language_info": {
   "codemirror_mode": {
    "name": "ipython",
    "version": 3
   },
   "file_extension": ".py",
   "mimetype": "text/x-python",
   "name": "python",
   "nbconvert_exporter": "python",
   "pygments_lexer": "ipython3",
   "version": "3.8.13"
  }
 },
 "nbformat": 4,
 "nbformat_minor": 5
}
