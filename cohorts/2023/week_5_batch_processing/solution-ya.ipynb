{
 "cells": [
  {
   "cell_type": "code",
   "execution_count": 1,
   "id": "f64e3167-f638-43f5-ae1b-aafb98c7383b",
   "metadata": {
    "tags": []
   },
   "outputs": [
    {
     "name": "stdout",
     "output_type": "stream",
     "text": [
      "env: SPARK_HOME=/usr/lib/spark\n"
     ]
    }
   ],
   "source": [
    "%env SPARK_HOME=/usr/lib/spark"
   ]
  },
  {
   "cell_type": "code",
   "execution_count": 2,
   "id": "1d806d04-4c81-4cdd-9bb1-a561c04f3373",
   "metadata": {
    "tags": []
   },
   "outputs": [
    {
     "data": {
      "text/plain": [
       "True"
      ]
     },
     "execution_count": 2,
     "metadata": {},
     "output_type": "execute_result"
    }
   ],
   "source": [
    "from dotenv import load_dotenv\n",
    "\n",
    "load_dotenv()"
   ]
  },
  {
   "cell_type": "code",
   "execution_count": 3,
   "id": "2a8db43f-db91-4eff-bc51-57451a058f5b",
   "metadata": {
    "tags": []
   },
   "outputs": [],
   "source": [
    "import findspark\n",
    "\n",
    "findspark.init('/usr/lib/spark/')"
   ]
  },
  {
   "cell_type": "markdown",
   "id": "dc69327b-ddb8-4902-912e-17339a3a4745",
   "metadata": {},
   "source": [
    "## PySpark\n",
    "\n",
    "Run PySpark local: `docker compose up`"
   ]
  },
  {
   "cell_type": "code",
   "execution_count": 4,
   "id": "f4a90b68-1ae6-488d-a318-2080c6a5224c",
   "metadata": {
    "tags": []
   },
   "outputs": [],
   "source": [
    "import os\n",
    "\n",
    "import pyspark\n",
    "\n",
    "import pyspark.sql.types as T\n",
    "import pyspark.sql.functions as F\n",
    "\n",
    "from pyspark.sql import SparkSession"
   ]
  },
  {
   "cell_type": "markdown",
   "id": "07acad90-ff90-4e38-8804-1652fc2182d2",
   "metadata": {},
   "source": [
    "### Question 1"
   ]
  },
  {
   "cell_type": "code",
   "execution_count": 5,
   "id": "15b483ec-2000-4e9d-96bd-c9e036198d70",
   "metadata": {
    "tags": []
   },
   "outputs": [
    {
     "data": {
      "text/plain": [
       "'3.0.3'"
      ]
     },
     "execution_count": 5,
     "metadata": {},
     "output_type": "execute_result"
    }
   ],
   "source": [
    "pyspark.__version__"
   ]
  },
  {
   "cell_type": "code",
   "execution_count": 6,
   "id": "09cb9375-7e9b-4b67-9040-fe6251d1ae8f",
   "metadata": {
    "tags": []
   },
   "outputs": [
    {
     "data": {
      "text/html": [
       "\n",
       "        <div>\n",
       "            <p><b>SparkContext</b></p>\n",
       "\n",
       "            <p><a href=\"http://10.129.0.8:4040\">Spark UI</a></p>\n",
       "\n",
       "            <dl>\n",
       "              <dt>Version</dt>\n",
       "                <dd><code>v3.0.3</code></dd>\n",
       "              <dt>Master</dt>\n",
       "                <dd><code>yarn</code></dd>\n",
       "              <dt>AppName</dt>\n",
       "                <dd><code>pyspark-shell</code></dd>\n",
       "            </dl>\n",
       "        </div>\n",
       "        "
      ],
      "text/plain": [
       "<SparkContext master=yarn appName=pyspark-shell>"
      ]
     },
     "execution_count": 6,
     "metadata": {},
     "output_type": "execute_result"
    }
   ],
   "source": [
    "spark = (\n",
    "    SparkSession.builder\n",
    "        .config(\"spark.jars\", \"/usr/lib/iam-s3-credentials/iam-s3-credentials.jar\")\n",
    "        .config(\"spark.executor.cores\", 2)\n",
    "        .config(\"spark.executor.instances\", 4)\n",
    "        .config(\"spark.executor.memory\", \"2G\")\n",
    "        .config(\"fs.s3a.signing-algorithm\", \"\")\n",
    "        .config(\"fs.s3a.aws.credentials.provider\", \"org.apache.hadoop.fs.s3a.SimpleAWSCredentialsProvider\")\n",
    "        .config(\"fs.s3a.bucket.dataproc-examples.endpoint\", \"storage.yandexcloud.net\")\n",
    "        .config(\"fs.s3a.bucket.dataproc-examples.access.key\", os.environ['AWS_ACCESS_KEY_ID'])\n",
    "        .config(\"fs.s3a.bucket.dataproc-examples.secret.key\", os.environ['AWS_SECRET_ACCESS_KEY'])\n",
    "        .getOrCreate()\n",
    ")\n",
    "\n",
    "sc = spark.sparkContext\n",
    "sc"
   ]
  },
  {
   "cell_type": "code",
   "execution_count": 7,
   "id": "d0905039-cb29-447f-b86b-61b0b969f160",
   "metadata": {
    "tags": []
   },
   "outputs": [
    {
     "data": {
      "text/plain": [
       "'3.0.3'"
      ]
     },
     "execution_count": 7,
     "metadata": {},
     "output_type": "execute_result"
    }
   ],
   "source": [
    "spark.version"
   ]
  },
  {
   "cell_type": "markdown",
   "id": "dcb6b97e-5f1e-44a0-8ec0-60c6141d8010",
   "metadata": {},
   "source": [
    "### Question 2"
   ]
  },
  {
   "cell_type": "code",
   "execution_count": 8,
   "id": "ee987ed3-8edc-42fe-a35f-3da991e79454",
   "metadata": {
    "tags": []
   },
   "outputs": [],
   "source": [
    "schema = T.StructType([\n",
    "    T.StructField('dispatching_base_num',   T.StringType(),    True),\n",
    "    T.StructField('pickup_datetime',        T.TimestampType(), True),\n",
    "    T.StructField('dropoff_datetime',       T.TimestampType(), True),\n",
    "    T.StructField('PULocationID',           T.IntegerType(),   True),\n",
    "    T.StructField('DOLocationID',           T.IntegerType(),   True),\n",
    "    T.StructField('SR_Flag',                T.StringType(),    True),\n",
    "    T.StructField('Affiliated_base_number', T.StringType(),    True),\n",
    "])"
   ]
  },
  {
   "cell_type": "code",
   "execution_count": 9,
   "id": "6a5956fa-2fce-47b8-83f4-28169a6dca65",
   "metadata": {
    "tags": []
   },
   "outputs": [
    {
     "name": "stdout",
     "output_type": "stream",
     "text": [
      "+--------------------+-------------------+-------------------+------------+------------+-------+----------------------+\n",
      "|dispatching_base_num|    pickup_datetime|   dropoff_datetime|PULocationID|DOLocationID|SR_Flag|Affiliated_base_number|\n",
      "+--------------------+-------------------+-------------------+------------+------------+-------+----------------------+\n",
      "|              B02764|2021-06-01 00:02:41|2021-06-01 00:07:46|         174|          18|      N|                B02764|\n",
      "|              B02764|2021-06-01 00:16:16|2021-06-01 00:21:14|          32|         254|      N|                B02764|\n",
      "|              B02764|2021-06-01 00:27:01|2021-06-01 00:42:11|         240|         127|      N|                B02764|\n",
      "|              B02764|2021-06-01 00:46:08|2021-06-01 00:53:45|         127|         235|      N|                B02764|\n",
      "|              B02510|2021-06-01 00:45:42|2021-06-01 01:03:33|         144|         146|      N|                  null|\n",
      "+--------------------+-------------------+-------------------+------------+------------+-------+----------------------+\n",
      "only showing top 5 rows\n",
      "\n"
     ]
    }
   ],
   "source": [
    "\"\"\"\n",
    "This block of code can work extremely slow. If cluster has many weak workers,\n",
    "then this weak worker has to read the whole file (180Mb) alone from s3. Then\n",
    "it has to be partitioned between other worker. So in my case it takes up to\n",
    "5 minutes.\n",
    "\"\"\"\n",
    "\n",
    "taxi_data = (\n",
    "    spark.read\n",
    "        .option(\"header\", \"true\")\n",
    "        .option(\"compression\", \"gzip\")\n",
    "        .schema(schema)\n",
    "        .csv(\"s3a://de-bucket-dev/data/fhvhv_tripdata_2021-06.csv.gz\")\n",
    ")\n",
    "\n",
    "taxi_data.persist()  # cache dataframe to speed up all operations\n",
    "\n",
    "taxi_data.show(5)"
   ]
  },
  {
   "cell_type": "code",
   "execution_count": 11,
   "id": "847e9955-d472-47e3-88b5-414cbe4dbb44",
   "metadata": {
    "tags": []
   },
   "outputs": [],
   "source": [
    "# taxi_data.repartition(12).write.parquet('s3a://de-bucket-dev/output/fhvhv_tripdata_2021-06.parquet', mode='overwrite')"
   ]
  },
  {
   "cell_type": "code",
   "execution_count": 12,
   "id": "622b4eea-c9cd-490c-a9cb-6ad0549f09a9",
   "metadata": {
    "tags": []
   },
   "outputs": [],
   "source": [
    "# !s3cmd ls -s -H s3a://de-bucket-dev/output/fhvhv_tripdata_2021-06.parquet/*"
   ]
  },
  {
   "cell_type": "markdown",
   "id": "0790640d-04d4-4005-b6f5-55dac86d2f95",
   "metadata": {},
   "source": [
    "### Question 3"
   ]
  },
  {
   "cell_type": "code",
   "execution_count": 13,
   "id": "8da96492-392a-425f-9c13-9e414f1874a8",
   "metadata": {
    "tags": []
   },
   "outputs": [],
   "source": [
    "# create sql view\n",
    "\n",
    "taxi_data.createOrReplaceTempView('fhvhv_2021_06')"
   ]
  },
  {
   "cell_type": "code",
   "execution_count": 14,
   "id": "5455bc83-49f1-43d6-ab4f-9b4555fe10eb",
   "metadata": {
    "tags": []
   },
   "outputs": [
    {
     "name": "stdout",
     "output_type": "stream",
     "text": [
      "+--------+\n",
      "|count(1)|\n",
      "+--------+\n",
      "|  452470|\n",
      "+--------+\n",
      "\n"
     ]
    }
   ],
   "source": [
    "spark.sql(\"\"\"\n",
    "select count(*)\n",
    "from fhvhv_2021_06 \n",
    "where date_trunc('DD', pickup_datetime) = '2021-06-15'\n",
    "\"\"\").show()"
   ]
  },
  {
   "cell_type": "code",
   "execution_count": 15,
   "id": "ea057aba-ccec-45d7-9ac0-ce74426887d4",
   "metadata": {
    "tags": []
   },
   "outputs": [
    {
     "data": {
      "text/plain": [
       "452470"
      ]
     },
     "execution_count": 15,
     "metadata": {},
     "output_type": "execute_result"
    }
   ],
   "source": [
    "taxi_data.filter(F.col('pickup_datetime').cast('date') == '2021-06-15').count()"
   ]
  },
  {
   "cell_type": "markdown",
   "id": "3daee9d4-4b24-4b5e-9b04-ddab5bcf58e7",
   "metadata": {},
   "source": [
    "### Question 4"
   ]
  },
  {
   "cell_type": "code",
   "execution_count": 16,
   "id": "f70a4eac-6e18-4b19-b12d-c5eb22e8fe00",
   "metadata": {
    "tags": []
   },
   "outputs": [
    {
     "name": "stdout",
     "output_type": "stream",
     "text": [
      "+----------------+\n",
      "|       diff_hour|\n",
      "+----------------+\n",
      "|66.8788888888889|\n",
      "+----------------+\n",
      "\n"
     ]
    }
   ],
   "source": [
    "spark.sql(\"\"\"\n",
    "select\n",
    "    max(unix_timestamp(dropoff_datetime) - unix_timestamp(pickup_datetime)) / 3600 as diff_hour\n",
    "from fhvhv_2021_06\n",
    "\"\"\").show()"
   ]
  },
  {
   "cell_type": "code",
   "execution_count": 17,
   "id": "e92f0fac-caa9-415f-9f7b-fba8bb8e1124",
   "metadata": {
    "tags": []
   },
   "outputs": [
    {
     "data": {
      "text/plain": [
       "66.8788888888889"
      ]
     },
     "execution_count": 17,
     "metadata": {},
     "output_type": "execute_result"
    }
   ],
   "source": [
    "intervals = taxi_data \\\n",
    "    .select(F.max((F.unix_timestamp('dropoff_datetime') - F.unix_timestamp('pickup_datetime')) / 3600).alias('interval')) \\\n",
    "    .collect()\n",
    "\n",
    "intervals[0].interval"
   ]
  },
  {
   "cell_type": "code",
   "execution_count": 18,
   "id": "ce4041ba-4830-4838-a40c-692be5df223f",
   "metadata": {
    "tags": []
   },
   "outputs": [
    {
     "name": "stdout",
     "output_type": "stream",
     "text": [
      "+----------------+\n",
      "|  max(diff_hour)|\n",
      "+----------------+\n",
      "|66.8788888888889|\n",
      "+----------------+\n",
      "\n"
     ]
    }
   ],
   "source": [
    "spark.sql(\"\"\"\n",
    "select max(diff_hour) from (\n",
    "    select\n",
    "        date_trunc('DD', pickup_datetime) as pickup_dt,\n",
    "        max(unix_timestamp(dropoff_datetime) - unix_timestamp(pickup_datetime)) / 3600 as diff_hour\n",
    "    from fhvhv_2021_06\n",
    "    group by pickup_dt\n",
    "    order by pickup_dt\n",
    ")\n",
    "\"\"\").show()"
   ]
  },
  {
   "cell_type": "code",
   "execution_count": 19,
   "id": "f06c9bd0-098b-46ac-94ec-442e5ce8a51d",
   "metadata": {
    "tags": []
   },
   "outputs": [
    {
     "data": {
      "text/plain": [
       "66.8788888888889"
      ]
     },
     "execution_count": 19,
     "metadata": {},
     "output_type": "execute_result"
    }
   ],
   "source": [
    "intervals = taxi_data \\\n",
    "    .select(\n",
    "        F.col('pickup_datetime').cast('date').alias('pickup_date'),\n",
    "        ((F.unix_timestamp('dropoff_datetime') - F.unix_timestamp('pickup_datetime')) / 3600).alias('diff_hour'),\n",
    "    ) \\\n",
    "    .groupby('pickup_date') \\\n",
    "    .agg(F.max('diff_hour').alias('max_diff_hour')) \\\n",
    "    .sort(F.col('max_diff_hour').desc()) \\\n",
    "    .collect()\n",
    "\n",
    "intervals[0].max_diff_hour"
   ]
  },
  {
   "cell_type": "markdown",
   "id": "b3bc4273-d995-46d3-abe0-709ed349ea78",
   "metadata": {},
   "source": [
    "### Question 5"
   ]
  },
  {
   "cell_type": "markdown",
   "id": "bebe9eb9-9028-4f9d-809b-f75c69a58fa2",
   "metadata": {},
   "source": [
    "http://localhost:4040/jobs/"
   ]
  },
  {
   "cell_type": "markdown",
   "id": "e19b7e92-9703-4b7a-aeec-92b665f3c8d5",
   "metadata": {},
   "source": [
    "### Question 6"
   ]
  },
  {
   "cell_type": "code",
   "execution_count": 20,
   "id": "6bb67234-d12a-4274-99cd-804e59b24d8d",
   "metadata": {
    "tags": []
   },
   "outputs": [
    {
     "name": "stdout",
     "output_type": "stream",
     "text": [
      "+----------+-------------+--------------------+------------+\n",
      "|LocationID|      Borough|                Zone|service_zone|\n",
      "+----------+-------------+--------------------+------------+\n",
      "|         1|          EWR|      Newark Airport|         EWR|\n",
      "|         2|       Queens|         Jamaica Bay|   Boro Zone|\n",
      "|         3|        Bronx|Allerton/Pelham G...|   Boro Zone|\n",
      "|         4|    Manhattan|       Alphabet City| Yellow Zone|\n",
      "|         5|Staten Island|       Arden Heights|   Boro Zone|\n",
      "+----------+-------------+--------------------+------------+\n",
      "only showing top 5 rows\n",
      "\n"
     ]
    }
   ],
   "source": [
    "taxi_zone_lookup = (\n",
    "    spark.read\n",
    "        .option(\"header\", \"true\")\n",
    "        .option(\"inferSchema\" , \"true\")\n",
    "        .csv(\"s3a://de-bucket-dev/data/taxi_zone_lookup.csv\")\n",
    ")\n",
    "\n",
    "taxi_zone_lookup.persist()  # cache dataframe to speed up all operations\n",
    "\n",
    "taxi_zone_lookup.show(5)"
   ]
  },
  {
   "cell_type": "code",
   "execution_count": 21,
   "id": "d9a012d0-3847-4cce-88ee-12125f40994d",
   "metadata": {
    "tags": []
   },
   "outputs": [
    {
     "data": {
      "text/plain": [
       "[('LocationID', 'int'),\n",
       " ('Borough', 'string'),\n",
       " ('Zone', 'string'),\n",
       " ('service_zone', 'string')]"
      ]
     },
     "execution_count": 21,
     "metadata": {},
     "output_type": "execute_result"
    }
   ],
   "source": [
    "taxi_zone_lookup.dtypes"
   ]
  },
  {
   "cell_type": "code",
   "execution_count": 22,
   "id": "af060ebe-37d6-42ef-ac60-16c8c0fbb3d9",
   "metadata": {
    "tags": []
   },
   "outputs": [],
   "source": [
    "# create sql view\n",
    "\n",
    "taxi_zone_lookup.createOrReplaceTempView('zones')"
   ]
  },
  {
   "cell_type": "code",
   "execution_count": 23,
   "id": "90b9a3da-34cf-44db-aaab-2875c23772d5",
   "metadata": {
    "tags": []
   },
   "outputs": [
    {
     "name": "stdout",
     "output_type": "stream",
     "text": [
      "+------------+------+----------+---------+-------------------+------------+\n",
      "|PULocationID|   cnt|LocationID|  Borough|               Zone|service_zone|\n",
      "+------------+------+----------+---------+-------------------+------------+\n",
      "|          61|231279|        61| Brooklyn|Crown Heights North|   Boro Zone|\n",
      "|          79|221244|        79|Manhattan|       East Village| Yellow Zone|\n",
      "|         132|188867|       132|   Queens|        JFK Airport|    Airports|\n",
      "|          37|187929|        37| Brooklyn|     Bushwick South|   Boro Zone|\n",
      "|          76|186780|        76| Brooklyn|      East New York|   Boro Zone|\n",
      "+------------+------+----------+---------+-------------------+------------+\n",
      "\n"
     ]
    }
   ],
   "source": [
    "spark.sql(\"\"\"\n",
    "select\n",
    "    *\n",
    "from (\n",
    "    select PULocationID, count(*) as cnt\n",
    "    from fhvhv_2021_06\n",
    "    group by PULocationID\n",
    ") as db\n",
    "join zones on db.PULocationID = zones.LocationID\n",
    "order by cnt desc\n",
    "limit 5\n",
    "\"\"\").show()"
   ]
  },
  {
   "cell_type": "code",
   "execution_count": 24,
   "id": "7322a989-a742-4c0e-bcfb-8a2081068dc6",
   "metadata": {
    "tags": []
   },
   "outputs": [
    {
     "data": {
      "text/plain": [
       "[Row(LocationID=61, count=231279, Borough='Brooklyn', Zone='Crown Heights North', service_zone='Boro Zone'),\n",
       " Row(LocationID=79, count=221244, Borough='Manhattan', Zone='East Village', service_zone='Yellow Zone'),\n",
       " Row(LocationID=132, count=188867, Borough='Queens', Zone='JFK Airport', service_zone='Airports'),\n",
       " Row(LocationID=37, count=187929, Borough='Brooklyn', Zone='Bushwick South', service_zone='Boro Zone'),\n",
       " Row(LocationID=76, count=186780, Borough='Brooklyn', Zone='East New York', service_zone='Boro Zone')]"
      ]
     },
     "execution_count": 24,
     "metadata": {},
     "output_type": "execute_result"
    }
   ],
   "source": [
    "taxi_data \\\n",
    "    .select(F.col('PULocationID').alias('LocationID')) \\\n",
    "    .groupby('LocationID') \\\n",
    "    .count() \\\n",
    "    .join(taxi_zone_lookup, on='LocationID') \\\n",
    "    .sort(F.col('count').desc()) \\\n",
    "    .head(5)"
   ]
  },
  {
   "cell_type": "code",
   "execution_count": null,
   "id": "483df3eb-b40f-406a-b103-661d65ec2c8f",
   "metadata": {},
   "outputs": [],
   "source": []
  }
 ],
 "metadata": {
  "kernelspec": {
   "display_name": "Python 3",
   "language": "python",
   "name": "python3"
  },
  "language_info": {
   "codemirror_mode": {
    "name": "ipython",
    "version": 3
   },
   "file_extension": ".py",
   "mimetype": "text/x-python",
   "name": "python",
   "nbconvert_exporter": "python",
   "pygments_lexer": "ipython3",
   "version": "3.8.16"
  }
 },
 "nbformat": 4,
 "nbformat_minor": 5
}
